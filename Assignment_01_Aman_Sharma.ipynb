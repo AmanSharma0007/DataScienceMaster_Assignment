{
 "cells": [
  {
   "cell_type": "raw",
   "id": "19d875da-a2fe-4756-bedb-3c4888a4e562",
   "metadata": {},
   "source": [
    "                                                  ASSIGNMENT 01            \n",
    " -->   By Aman Sharma"
   ]
  },
  {
   "cell_type": "raw",
   "id": "c1a50f78-c938-4c99-ac50-9bd08a62249d",
   "metadata": {},
   "source": [
    "Q1. Create one variable containing following type of data:\n",
    "(i) string\n",
    "(ii) list\n",
    "(iii) float\n",
    "(iv) tuple"
   ]
  },
  {
   "cell_type": "code",
   "execution_count": null,
   "id": "3c266af1-7f34-485a-b783-01925dc8cafa",
   "metadata": {},
   "outputs": [],
   "source": [
    "(i) string"
   ]
  },
  {
   "cell_type": "code",
   "execution_count": 1,
   "id": "65295f67-b459-43df-9444-ca26ec39ee9c",
   "metadata": {},
   "outputs": [
    {
     "data": {
      "text/plain": [
       "str"
      ]
     },
     "execution_count": 1,
     "metadata": {},
     "output_type": "execute_result"
    }
   ],
   "source": [
    "a=\"Aman\"\n",
    "type(a)"
   ]
  },
  {
   "cell_type": "markdown",
   "id": "cd3283e2-0862-4d04-ae58-63c3bf4f78f2",
   "metadata": {},
   "source": [
    "(ii) list"
   ]
  },
  {
   "cell_type": "code",
   "execution_count": 2,
   "id": "7eee9b84-187f-4f89-9f7d-e71a472a3db2",
   "metadata": {},
   "outputs": [
    {
     "data": {
      "text/plain": [
       "list"
      ]
     },
     "execution_count": 2,
     "metadata": {},
     "output_type": "execute_result"
    }
   ],
   "source": [
    "l=[2,3,True,3+4j]\n",
    "type(l)"
   ]
  },
  {
   "cell_type": "markdown",
   "id": "7bfc2bfe-20a8-4704-830d-2d0b5eb61c0e",
   "metadata": {},
   "source": [
    "(iii) float"
   ]
  },
  {
   "cell_type": "code",
   "execution_count": 3,
   "id": "143cc47d-1d10-4c91-9289-c752b23cb3ac",
   "metadata": {},
   "outputs": [
    {
     "data": {
      "text/plain": [
       "float"
      ]
     },
     "execution_count": 3,
     "metadata": {},
     "output_type": "execute_result"
    }
   ],
   "source": [
    "c=3.4\n",
    "type(c)"
   ]
  },
  {
   "cell_type": "markdown",
   "id": "410a83a3-4c81-4fb9-9e6e-35812427f6b3",
   "metadata": {},
   "source": [
    "(iv) tuple"
   ]
  },
  {
   "cell_type": "code",
   "execution_count": 4,
   "id": "cba07e0f-7f8a-4ffc-bae4-bda6daffcaed",
   "metadata": {},
   "outputs": [
    {
     "data": {
      "text/plain": [
       "tuple"
      ]
     },
     "execution_count": 4,
     "metadata": {},
     "output_type": "execute_result"
    }
   ],
   "source": [
    "mytuple =(\"mango\",\"banana\",\"orange\")\n",
    "type(mytuple)"
   ]
  },
  {
   "cell_type": "markdown",
   "id": "da52c99a-3894-44f0-9b3d-20960b93e0d7",
   "metadata": {},
   "source": [
    "Q2. Given are some following variables containing data:\n",
    "(i)\tvar1 = ‘ ‘\n",
    "(ii)\tvar2 = ‘[ DS , ML , Python]’\n",
    "(iii)\tvar3 = [ ‘DS’ , ’ML’ , ‘Python’ ]\n",
    "(iv)\tvar4 = 1.\n",
    "What will be the data type of the above given variable."
   ]
  },
  {
   "cell_type": "markdown",
   "id": "dd809331-0943-4543-8e95-d0f44fdd11a1",
   "metadata": {},
   "source": [
    "(i)\tvar1 = ‘ ‘"
   ]
  },
  {
   "cell_type": "code",
   "execution_count": 6,
   "id": "e0fb7b30-496a-4b33-a91c-2a74f08e0db8",
   "metadata": {},
   "outputs": [
    {
     "data": {
      "text/plain": [
       "str"
      ]
     },
     "execution_count": 6,
     "metadata": {},
     "output_type": "execute_result"
    }
   ],
   "source": [
    "var1 = ''\n",
    "type(var1)"
   ]
  },
  {
   "cell_type": "markdown",
   "id": "abb7dde3-cade-4619-b27f-27d51f56e91c",
   "metadata": {},
   "source": [
    "(ii) var2 = ‘[ DS , ML , Python]’"
   ]
  },
  {
   "cell_type": "code",
   "execution_count": 7,
   "id": "d271920e-a860-4542-8905-97a557edc567",
   "metadata": {},
   "outputs": [
    {
     "data": {
      "text/plain": [
       "str"
      ]
     },
     "execution_count": 7,
     "metadata": {},
     "output_type": "execute_result"
    }
   ],
   "source": [
    "var2 = '[ DS , ML , Python]'\n",
    "type(var2)"
   ]
  },
  {
   "cell_type": "raw",
   "id": "52136493-f79b-4e5b-8b6a-48ccbd612b0d",
   "metadata": {},
   "source": [
    "(iii)\tvar3 = [ ‘DS’ , ’ML’ , ‘Python’ ]"
   ]
  },
  {
   "cell_type": "code",
   "execution_count": 8,
   "id": "8f15f190-bd90-4e0f-ba04-e00cbcec980d",
   "metadata": {},
   "outputs": [
    {
     "data": {
      "text/plain": [
       "list"
      ]
     },
     "execution_count": 8,
     "metadata": {},
     "output_type": "execute_result"
    }
   ],
   "source": [
    "var3 = [ 'DS' , 'ML' , 'Python' ]\n",
    "type(var3)"
   ]
  },
  {
   "cell_type": "markdown",
   "id": "9fec895e-4250-427f-a4a9-8e1b8e265c82",
   "metadata": {},
   "source": [
    "(iv)\tvar4 = 1"
   ]
  },
  {
   "cell_type": "code",
   "execution_count": 9,
   "id": "d6cf5f9a-8eab-4334-9557-60f18779ac30",
   "metadata": {},
   "outputs": [
    {
     "data": {
      "text/plain": [
       "int"
      ]
     },
     "execution_count": 9,
     "metadata": {},
     "output_type": "execute_result"
    }
   ],
   "source": [
    "var4 = 1\n",
    "type(var4)"
   ]
  },
  {
   "cell_type": "markdown",
   "id": "32cb2f4a-03ae-4238-8cf3-a7f532b38754",
   "metadata": {},
   "source": [
    "Q3. Explain the use of the following operators using an example:\n",
    "(i)\t/\n",
    "(ii)\t% \n",
    "(iii)\t//\n",
    "(iv)\t**"
   ]
  },
  {
   "cell_type": "markdown",
   "id": "4167e226-187c-40a8-9d88-fd16b42d5b51",
   "metadata": {},
   "source": [
    " (i) / \n",
    "  -->  It gives the Quotient in the Output"
   ]
  },
  {
   "cell_type": "code",
   "execution_count": 10,
   "id": "3de1f974-4235-4477-9957-daba70a8ae04",
   "metadata": {},
   "outputs": [
    {
     "data": {
      "text/plain": [
       "4.0"
      ]
     },
     "execution_count": 10,
     "metadata": {},
     "output_type": "execute_result"
    }
   ],
   "source": [
    "20/5"
   ]
  },
  {
   "cell_type": "markdown",
   "id": "eba36cd6-6ea9-42a7-92bc-d0157c43d06d",
   "metadata": {},
   "source": [
    "(ii) %\n",
    "  -->  % is called the modulus operator.\n",
    "  -->  % is used to find the remander of the values."
   ]
  },
  {
   "cell_type": "code",
   "execution_count": 11,
   "id": "b6e9ce57-88db-451f-ae41-c55f0c75d2d1",
   "metadata": {},
   "outputs": [
    {
     "data": {
      "text/plain": [
       "2"
      ]
     },
     "execution_count": 11,
     "metadata": {},
     "output_type": "execute_result"
    }
   ],
   "source": [
    "12%5"
   ]
  },
  {
   "cell_type": "markdown",
   "id": "8c55efd0-b6bd-46ea-aa9e-123136a10ed1",
   "metadata": {},
   "source": [
    "(iii) //\n",
    "   -->  // is used to neglact the decimal values.\n",
    "   -->  // gives the quotient by making it to equivalent integer."
   ]
  },
  {
   "cell_type": "code",
   "execution_count": 12,
   "id": "4ce574df-695d-4a2d-9ef2-ef08e1a80577",
   "metadata": {},
   "outputs": [
    {
     "data": {
      "text/plain": [
       "0"
      ]
     },
     "execution_count": 12,
     "metadata": {},
     "output_type": "execute_result"
    }
   ],
   "source": [
    "2//7"
   ]
  },
  {
   "cell_type": "markdown",
   "id": "5c7f0ac5-9e06-4fe3-bf29-01be269ae062",
   "metadata": {},
   "source": [
    "(iv) **\n",
    "  --> ** is a exponential operator, which takes the right hand side value to the power of the left hand side value.\n",
    "  --> ** is used to calculate the squre ,cube etc."
   ]
  },
  {
   "cell_type": "code",
   "execution_count": 13,
   "id": "32f69149-9263-4be1-89d8-807f07bd333a",
   "metadata": {},
   "outputs": [
    {
     "data": {
      "text/plain": [
       "16"
      ]
     },
     "execution_count": 13,
     "metadata": {},
     "output_type": "execute_result"
    }
   ],
   "source": [
    " 2 ** 4"
   ]
  },
  {
   "cell_type": "markdown",
   "id": "f082ea8e-f5e3-4d04-a469-a64c69f4354d",
   "metadata": {},
   "source": [
    "Q4. Create a list of length 10 of your choice containing multiple types of data. Using for loop print the \n",
    "element and its data type"
   ]
  },
  {
   "cell_type": "code",
   "execution_count": 14,
   "id": "c674e64f-b317-4514-a74e-f6aa99e529c0",
   "metadata": {},
   "outputs": [
    {
     "name": "stdout",
     "output_type": "stream",
     "text": [
      "2\n",
      "<class 'int'>\n",
      "Aman\n",
      "<class 'str'>\n",
      "2.5\n",
      "<class 'float'>\n",
      "4.5454688\n",
      "<class 'float'>\n",
      "True\n",
      "<class 'bool'>\n",
      "(4+6j)\n",
      "<class 'complex'>\n",
      "8j\n",
      "<class 'complex'>\n",
      "8\n",
      "<class 'int'>\n",
      "1\n",
      "<class 'int'>\n",
      "pwskills\n",
      "<class 'str'>\n"
     ]
    }
   ],
   "source": [
    "data_length = [ 2,'Aman',2.5,4.5454688,True,4+6j,8j,8,1,\"pwskills\"]\n",
    "for i in data_length:\n",
    "  print(i)\n",
    "  data = type(i)\n",
    "  print(data)"
   ]
  },
  {
   "cell_type": "markdown",
   "id": "13f01b31-4ca2-46cb-89bf-268be35e64d4",
   "metadata": {},
   "source": [
    "Q5. Using a while loop, verify if the number A is purely divisible by number B and if so then how many \n",
    "times it can be divisible"
   ]
  },
  {
   "cell_type": "code",
   "execution_count": 19,
   "id": "98bca0b7-93fa-41b6-ab52-d75e97edee18",
   "metadata": {},
   "outputs": [
    {
     "name": "stdin",
     "output_type": "stream",
     "text": [
      "Enter the first number:  12\n",
      "Enter the second number:  3\n"
     ]
    },
    {
     "name": "stdout",
     "output_type": "stream",
     "text": [
      "a is divisible by b and a is divisible by b for 4.0 times\n"
     ]
    }
   ],
   "source": [
    "          # Taking input of two numbers\n",
    "A = int(input(\"Enter the first number: \"))\n",
    "B = int(input(\"Enter the second number: \"))\n",
    "while A%B==0:\n",
    "    print('a is divisible by b', 'and a is divisible by b for', A/B, 'times')\n",
    "    break\n",
    "else:\n",
    "    print('a is not divisible by b')\n"
   ]
  },
  {
   "cell_type": "markdown",
   "id": "12a04b20-5ec8-460a-b419-db95275a8f31",
   "metadata": {},
   "source": [
    "Q6. Create a list containing 25 int type data. Using for loop and if-else condition print if the element is divisible by 3 or not."
   ]
  },
  {
   "cell_type": "code",
   "execution_count": 20,
   "id": "a8cbc59d-42d5-43d6-b226-31df87729ef0",
   "metadata": {},
   "outputs": [
    {
     "name": "stdout",
     "output_type": "stream",
     "text": [
      "[1, 2, 3, 4, 5, 6, 7, 8, 9, 10, 11, 12, 13, 14, 15, 16, 17, 18, 19, 20, 21, 22, 23, 24, 25]\n",
      "1 Is not divisiable by 3\n",
      "2 Is not divisiable by 3\n",
      "3 Is divisibal by 3\n",
      "4 Is not divisiable by 3\n",
      "5 Is not divisiable by 3\n",
      "6 Is divisibal by 3\n",
      "7 Is not divisiable by 3\n",
      "8 Is not divisiable by 3\n",
      "9 Is divisibal by 3\n",
      "10 Is not divisiable by 3\n",
      "11 Is not divisiable by 3\n",
      "12 Is divisibal by 3\n",
      "13 Is not divisiable by 3\n",
      "14 Is not divisiable by 3\n",
      "15 Is divisibal by 3\n",
      "16 Is not divisiable by 3\n",
      "17 Is not divisiable by 3\n",
      "18 Is divisibal by 3\n",
      "19 Is not divisiable by 3\n",
      "20 Is not divisiable by 3\n",
      "21 Is divisibal by 3\n",
      "22 Is not divisiable by 3\n",
      "23 Is not divisiable by 3\n",
      "24 Is divisibal by 3\n",
      "25 Is not divisiable by 3\n"
     ]
    }
   ],
   "source": [
    "list_data = list(range(1,26)) \n",
    "print(list_data)\n",
    "\n",
    "for i in list_data:\n",
    "  \n",
    "  if i % 3 == 0 :\n",
    "    print(i,\"Is divisibal by 3\")\n",
    "  else:\n",
    "    print(i,\"Is not divisiable by 3\") \n"
   ]
  },
  {
   "cell_type": "markdown",
   "id": "a88a9a17-250d-4b16-ab35-b2809701b961",
   "metadata": {},
   "source": [
    "Q7. What do you understand about mutable and immutable data types? Give examples for both showing this property."
   ]
  },
  {
   "cell_type": "markdown",
   "id": "e67a8d6c-0c6c-409c-8fe8-c5fca6818e3e",
   "metadata": {},
   "source": [
    "Ans. Immutable data type:-\n",
    "--> An immutable object is an object whose value cannot be changed once it is created.\n",
    "--> Any operation that appears to modify an immutable object actually creates a new object with the modified value. \n",
    "--> A data type which cannot be eddited, which means we cannot do any changes in terms of adding, removing, replacing with the help of index       value."
   ]
  },
  {
   "cell_type": "code",
   "execution_count": 22,
   "id": "cd1943f7-819b-4107-8fa8-7c410f552685",
   "metadata": {},
   "outputs": [
    {
     "data": {
      "text/plain": [
       "tuple"
      ]
     },
     "execution_count": 22,
     "metadata": {},
     "output_type": "execute_result"
    }
   ],
   "source": [
    "#Example:-\n",
    "my_data =(\"Aman\",\"Delhi\",\"Haryana\")\n",
    "type(my_data)"
   ]
  },
  {
   "cell_type": "code",
   "execution_count": 23,
   "id": "e7e3a03e-e7f1-44bb-9a54-08ce3d313070",
   "metadata": {},
   "outputs": [
    {
     "ename": "NameError",
     "evalue": "name 'mydata' is not defined",
     "output_type": "error",
     "traceback": [
      "\u001b[0;31m---------------------------------------------------------------------------\u001b[0m",
      "\u001b[0;31mNameError\u001b[0m                                 Traceback (most recent call last)",
      "Cell \u001b[0;32mIn[23], line 1\u001b[0m\n\u001b[0;32m----> 1\u001b[0m \u001b[43mmydata\u001b[49m[\u001b[38;5;241m0\u001b[39m]\u001b[38;5;241m=\u001b[39m\u001b[38;5;124m\"\u001b[39m\u001b[38;5;124mUP\u001b[39m\u001b[38;5;124m\"\u001b[39m\n",
      "\u001b[0;31mNameError\u001b[0m: name 'mydata' is not defined"
     ]
    }
   ],
   "source": [
    "# Changing the first element of the tuple\n",
    "mydata[0]=\"UP\""
   ]
  },
  {
   "cell_type": "markdown",
   "id": "dc128b1e-161e-4a29-812a-78e7cd75db60",
   "metadata": {},
   "source": [
    "    Mutable data type:-\n",
    "--> A mutable object, on the other hand, is an object whose value can be changed once it is created.\n",
    "--> A data type which can be eddited, which means we can do any changes in terms of adding, removing, replacing with the help of index value."
   ]
  },
  {
   "cell_type": "code",
   "execution_count": 24,
   "id": "5249f9a6-d37f-446e-b112-f79379b3e600",
   "metadata": {},
   "outputs": [
    {
     "data": {
      "text/plain": [
       "list"
      ]
     },
     "execution_count": 24,
     "metadata": {},
     "output_type": "execute_result"
    }
   ],
   "source": [
    "#Example:-\n",
    "my_list = [\"Aman\", 2, 3]\n",
    "type(my_list)"
   ]
  },
  {
   "cell_type": "code",
   "execution_count": 25,
   "id": "26868216-108b-434b-b5f7-a8b799595251",
   "metadata": {},
   "outputs": [
    {
     "name": "stdout",
     "output_type": "stream",
     "text": [
      "['Aman', 'Sharma', 3]\n"
     ]
    }
   ],
   "source": [
    "# Changing the first element of the list\n",
    "my_list[1] = \"Sharma\"\n",
    "print(my_list) "
   ]
  },
  {
   "cell_type": "code",
   "execution_count": null,
   "id": "25f7164c-5c01-4b79-97cd-ca009e40b703",
   "metadata": {},
   "outputs": [],
   "source": [
    " ------------------------------------------------------------- END  ---------------------------------------------------------------------------"
   ]
  }
 ],
 "metadata": {
  "kernelspec": {
   "display_name": "Python 3 (ipykernel)",
   "language": "python",
   "name": "python3"
  },
  "language_info": {
   "codemirror_mode": {
    "name": "ipython",
    "version": 3
   },
   "file_extension": ".py",
   "mimetype": "text/x-python",
   "name": "python",
   "nbconvert_exporter": "python",
   "pygments_lexer": "ipython3",
   "version": "3.10.8"
  }
 },
 "nbformat": 4,
 "nbformat_minor": 5
}
